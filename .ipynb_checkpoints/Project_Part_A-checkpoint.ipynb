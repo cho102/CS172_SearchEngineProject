{
 "cells": [
  {
   "cell_type": "code",
   "execution_count": null,
   "id": "528cea7a",
   "metadata": {
    "scrolled": false
   },
   "outputs": [],
   "source": [
    "import praw\n",
    "import json\n",
    "import os\n",
    "import sys\n",
    "\n",
    "reddit = praw.Reddit(client_id=\"WrrK5QPKmhfVrVA4HIrIXg\", client_secret=\"QxxNSussZ9o17rnJJZzBRPrawp39fg\", user_agent=\"scrape\")\n",
    "\n",
    "list_of_items = []\n",
    "fields = (#'comments',\n",
    "          'created_utc',\n",
    "          'id',\n",
    "          'name',\n",
    "          'num_comments',\n",
    "          'over_18',\n",
    "          'permalink',\n",
    "          'score',\n",
    "          'selftext',\n",
    "          'spoiler',\n",
    "          'title',\n",
    "          'upvote_ratio',\n",
    "          'url', \n",
    "          )\n",
    "\n",
    "comm_fields = ('body')\n",
    "\n",
    "counter1 = 2\n",
    "file_name1 = f\"reddit_nfl_data_{counter1}.json\"\n",
    "\n",
    "top = reddit.subreddit(\"nfl_draft\").new(limit=None)\n",
    "for post in top:\n",
    "    print(\"start\")\n",
    "    to_dict = vars(post)\n",
    "    sub_dict = {field:to_dict[field] for field in fields}\n",
    "    post.comments.replace_more(limit=None)\n",
    "    commentsBody = []\n",
    "    for comment in post.comments.list():\n",
    "        comm_dict = vars(comment)\n",
    "        comm_sub_dict = {comm_fields:comm_dict[comm_fields] for comm_field in comm_fields}\n",
    "        repliesBody=[]\n",
    "        for reply in comment.replies:\n",
    "            repliesBody.append(reply.body)\n",
    "        if len(repliesBody):\n",
    "            comm_sub_dict[\"replies\"] = repliesBody\n",
    "        commentsBody.append(comm_sub_dict)\n",
    "    sub_dict[\"comments\"] = commentsBody\n",
    "    list_of_items.append(sub_dict)\n",
    "    \n",
    "    with open(file_name1, \"a\") as f:\n",
    "        json.dump(sub_dict, f)\n",
    "        f.write(\"\\n\")\n",
    "    \n",
    "    if os.path.getsize(file_name1) >= 10000000:\n",
    "        print(\"reached 10mb\")\n",
    "        counter1 += 1\n",
    "        file_name1 = f\"reddit_nfl_data_{counter1}.json\"\n",
    "    \n",
    "    print(\"done\")"
   ]
  },
  {
   "cell_type": "code",
   "execution_count": null,
   "id": "6a37c185",
   "metadata": {},
   "outputs": [],
   "source": [
    "import json\n",
    "import os\n",
    "import sys\n",
    "  \n",
    "# Opening JSON file\n",
    "fl = open('nfl_data.json')\n",
    "  \n",
    "# returns JSON object as \n",
    "# a dictionary\n",
    "\n",
    "counter1 = 6\n",
    "file_name1 = f\"reddit_nfl_data_{counter1}.json\"\n",
    "\n",
    "data = json.load(fl)\n",
    "\n",
    "for i in data['reddit_data']:\n",
    "#     print(\"start\")\n",
    "    with open(file_name1, \"a\") as f:\n",
    "        json.dump(i, f)\n",
    "        f.write(\"\\n\")\n",
    "    \n",
    "    if os.path.getsize(file_name1) >= 10000000:\n",
    "#         print(\"reached 10mb\")\n",
    "        counter1 += 1\n",
    "        file_name1 = f\"reddit_nfl_data_{counter1}.json\"\n",
    "#     print(\"done\")\n",
    "  \n",
    "#Closing file\n",
    "f.close()\n",
    "    "
   ]
  },
  {
   "cell_type": "code",
   "execution_count": 1,
   "id": "fc8ca60d",
   "metadata": {},
   "outputs": [
    {
     "name": "stderr",
     "output_type": "stream",
     "text": [
      "IOPub data rate exceeded.\n",
      "The notebook server will temporarily stop sending output\n",
      "to the client in order to avoid crashing it.\n",
      "To change this limit, set the config variable\n",
      "`--NotebookApp.iopub_data_rate_limit`.\n",
      "\n",
      "Current values:\n",
      "NotebookApp.iopub_data_rate_limit=1000000.0 (bytes/sec)\n",
      "NotebookApp.rate_limit_window=3.0 (secs)\n",
      "\n"
     ]
    }
   ],
   "source": [
    "import json\n",
    "  \n",
    "# Opening JSON file\n",
    "f = open('reddit_nfl_data_10.json')\n",
    "  \n",
    "# returns JSON object as \n",
    "# a dictionary\n",
    "data = json.load(f)\n",
    "  \n",
    "# Iterating through the json\n",
    "# list\n",
    "for i in data['reddit_data']:\n",
    "    print(i)\n",
    "  \n",
    "# Closing file\n",
    "f.close()"
   ]
  },
  {
   "cell_type": "code",
   "execution_count": null,
   "id": "ac0c7d98",
   "metadata": {},
   "outputs": [],
   "source": []
  },
  {
   "cell_type": "code",
   "execution_count": null,
   "id": "a8e6cffd",
   "metadata": {},
   "outputs": [],
   "source": []
  },
  {
   "cell_type": "code",
   "execution_count": null,
   "id": "fcd07e5f",
   "metadata": {},
   "outputs": [],
   "source": []
  }
 ],
 "metadata": {
  "kernelspec": {
   "display_name": "Python 3 (ipykernel)",
   "language": "python",
   "name": "python3"
  },
  "language_info": {
   "codemirror_mode": {
    "name": "ipython",
    "version": 3
   },
   "file_extension": ".py",
   "mimetype": "text/x-python",
   "name": "python",
   "nbconvert_exporter": "python",
   "pygments_lexer": "ipython3",
   "version": "3.8.8"
  }
 },
 "nbformat": 4,
 "nbformat_minor": 5
}
