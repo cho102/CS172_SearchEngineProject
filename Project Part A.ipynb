{
 "cells": [
  {
   "cell_type": "code",
   "execution_count": 23,
   "id": "528cea7a",
   "metadata": {},
   "outputs": [
    {
     "ename": "AttributeError",
     "evalue": "'MoreComments' object has no attribute 'body'",
     "output_type": "error",
     "traceback": [
      "\u001b[0;31m---------------------------------------------------------------------------\u001b[0m",
      "\u001b[0;31mAttributeError\u001b[0m                            Traceback (most recent call last)",
      "Cell \u001b[0;32mIn[23], line 37\u001b[0m\n\u001b[1;32m     35\u001b[0m \u001b[38;5;66;03m#         commentsBody.append(comment.body)\u001b[39;00m\n\u001b[1;32m     36\u001b[0m         \u001b[38;5;28;01mfor\u001b[39;00m reply \u001b[38;5;129;01min\u001b[39;00m comment\u001b[38;5;241m.\u001b[39mreplies:\n\u001b[0;32m---> 37\u001b[0m             repliesBody\u001b[38;5;241m.\u001b[39mappend(\u001b[43mreply\u001b[49m\u001b[38;5;241;43m.\u001b[39;49m\u001b[43mbody\u001b[49m)\n\u001b[1;32m     38\u001b[0m         \u001b[38;5;28;01mif\u001b[39;00m \u001b[38;5;28mlen\u001b[39m(repliesBody):\n\u001b[1;32m     39\u001b[0m             comm_sub_dict[\u001b[38;5;124m\"\u001b[39m\u001b[38;5;124mreplies\u001b[39m\u001b[38;5;124m\"\u001b[39m] \u001b[38;5;241m=\u001b[39m repliesBody\n",
      "\u001b[0;31mAttributeError\u001b[0m: 'MoreComments' object has no attribute 'body'"
     ]
    }
   ],
   "source": [
    "import praw\n",
    "import json\n",
    "import os\n",
    "\n",
    "reddit = praw.Reddit(client_id=\"WrrK5QPKmhfVrVA4HIrIXg\", client_secret=\"QxxNSussZ9o17rnJJZzBRPrawp39fg\", user_agent=\"scrape\")\n",
    "\n",
    "list_of_items = []\n",
    "fields = (#'comments',\n",
    "          'created_utc',\n",
    "          'id',\n",
    "          'name',\n",
    "          'num_comments',\n",
    "          'over_18',\n",
    "          'permalink',\n",
    "          'score',\n",
    "          'selftext',\n",
    "          'spoiler',\n",
    "          'title',\n",
    "          'upvote_ratio',\n",
    "          'url', \n",
    "          )\n",
    "\n",
    "comm_fields = ('body')\n",
    "\n",
    "top = reddit.subreddit(\"nfl\").new(limit=2000)\n",
    "for post in top:\n",
    "    to_dict = vars(post)\n",
    "    sub_dict = {field:to_dict[field] for field in fields}\n",
    "    post.comments.replace_more(limit=5)\n",
    "    commentsBody = []\n",
    "    for comment in post.comments.list():\n",
    "        comm_dict = vars(comment)\n",
    "        comm_sub_dict = {comm_fields:comm_dict[comm_fields] for comm_field in comm_fields}\n",
    "        repliesBody=[]\n",
    "#         commentsBody.append(comment.body)\n",
    "        for reply in comment.replies:\n",
    "            repliesBody.append(reply.body)\n",
    "        if len(repliesBody):\n",
    "            comm_sub_dict[\"replies\"] = repliesBody\n",
    "        commentsBody.append(comm_sub_dict)\n",
    "    sub_dict[\"comments\"] = commentsBody\n",
    "    list_of_items.append(sub_dict)\n",
    "    \n",
    "print(\"done\")"
   ]
  },
  {
   "cell_type": "code",
   "execution_count": 22,
   "id": "953a302e",
   "metadata": {},
   "outputs": [
    {
     "name": "stdout",
     "output_type": "stream",
     "text": [
      "File Size is:  8892 bytes\n"
     ]
    }
   ],
   "source": [
    "json_str = json.dumps(list_of_items)\n",
    "\n",
    "file_name = 'data.json'\n",
    "with open(file_name, 'w') as f:\n",
    "    for item in list_of_items:\n",
    "        if os.path.getsize(file_name) < 100:\n",
    "            #json.dump(item, f)\n",
    "            json.dump(item, f, indent=2)\n",
    "            #f.write(',\\n')\n",
    "    \n",
    "file_size = os.path.getsize(file_name)\n",
    "print(\"File Size is: \", file_size, \"bytes\")\n",
    "    "
   ]
  },
  {
   "cell_type": "code",
   "execution_count": 12,
   "id": "fc8ca60d",
   "metadata": {},
   "outputs": [
    {
     "name": "stdout",
     "output_type": "stream",
     "text": [
      "File Size is :  518 bytes\n"
     ]
    }
   ],
   "source": [
    "file_size = os.path.getsize(file_name)\n",
    "from sys import getsizeof\n",
    "print(\"File Size is : \", file_size, \"bytes\")"
   ]
  },
  {
   "cell_type": "code",
   "execution_count": 13,
   "id": "ac0c7d98",
   "metadata": {},
   "outputs": [
    {
     "name": "stdout",
     "output_type": "stream",
     "text": [
      "[{\"created_utc\": 1515978468.0, \"id\": \"7qg5lv\", \"name\": \"t3_7qg5lv\", \"num_comments\": 6205, \"over_18\": false, \"permalink\": \"/r/nfl/comments/7qg5lv/highlight_no_vs_min_diggs_gamewinning_td_reception/\", \"score\": 45624, \"selftext\": \"\", \"spoiler\": false, \"title\": \"[Highlight] NO vs MIN - Diggs game-winning TD reception\", \"upvote_ratio\": 0.93, \"url\": \"https://streamable.com/2jqws\", \"comments\": [\"RIP 100 year old lady who I assume had multiple heart attacks over that last 30 seconds.\"]}]\n"
     ]
    }
   ],
   "source": [
    "print(json_str)"
   ]
  },
  {
   "cell_type": "code",
   "execution_count": null,
   "id": "6112f5cf",
   "metadata": {},
   "outputs": [],
   "source": []
  }
 ],
 "metadata": {
  "kernelspec": {
   "display_name": "Python 3 (ipykernel)",
   "language": "python",
   "name": "python3"
  },
  "language_info": {
   "codemirror_mode": {
    "name": "ipython",
    "version": 3
   },
   "file_extension": ".py",
   "mimetype": "text/x-python",
   "name": "python",
   "nbconvert_exporter": "python",
   "pygments_lexer": "ipython3",
   "version": "3.8.8"
  }
 },
 "nbformat": 4,
 "nbformat_minor": 5
}
